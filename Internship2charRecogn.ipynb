{
  "nbformat": 4,
  "nbformat_minor": 0,
  "metadata": {
    "colab": {
      "name": "Internship2charRecogn.ipynb",
      "provenance": []
    },
    "kernelspec": {
      "name": "python3",
      "display_name": "Python 3"
    },
    "language_info": {
      "name": "python"
    }
  },
  "cells": [
    {
      "cell_type": "code",
      "metadata": {
        "id": "6FhR3ioihVGN"
      },
      "source": [
        "from sklearn import svm \n",
        "svc = svm.SVC(gamma=0.001, C=100.)"
      ],
      "execution_count": 2,
      "outputs": []
    },
    {
      "cell_type": "code",
      "metadata": {
        "id": "LmWK3UN9hjT6"
      },
      "source": [
        "from sklearn import datasets\n",
        "digits = datasets.load_digits()"
      ],
      "execution_count": 4,
      "outputs": []
    },
    {
      "cell_type": "code",
      "metadata": {
        "colab": {
          "base_uri": "https://localhost:8080/",
          "height": 0
        },
        "id": "bH4WkEOyh384",
        "outputId": "88fff8ab-1a95-44f7-a007-f946028d53a7"
      },
      "source": [
        "print(digits.DESCR)"
      ],
      "execution_count": 5,
      "outputs": [
        {
          "output_type": "stream",
          "text": [
            ".. _digits_dataset:\n",
            "\n",
            "Optical recognition of handwritten digits dataset\n",
            "--------------------------------------------------\n",
            "\n",
            "**Data Set Characteristics:**\n",
            "\n",
            "    :Number of Instances: 5620\n",
            "    :Number of Attributes: 64\n",
            "    :Attribute Information: 8x8 image of integer pixels in the range 0..16.\n",
            "    :Missing Attribute Values: None\n",
            "    :Creator: E. Alpaydin (alpaydin '@' boun.edu.tr)\n",
            "    :Date: July; 1998\n",
            "\n",
            "This is a copy of the test set of the UCI ML hand-written digits datasets\n",
            "https://archive.ics.uci.edu/ml/datasets/Optical+Recognition+of+Handwritten+Digits\n",
            "\n",
            "The data set contains images of hand-written digits: 10 classes where\n",
            "each class refers to a digit.\n",
            "\n",
            "Preprocessing programs made available by NIST were used to extract\n",
            "normalized bitmaps of handwritten digits from a preprinted form. From a\n",
            "total of 43 people, 30 contributed to the training set and different 13\n",
            "to the test set. 32x32 bitmaps are divided into nonoverlapping blocks of\n",
            "4x4 and the number of on pixels are counted in each block. This generates\n",
            "an input matrix of 8x8 where each element is an integer in the range\n",
            "0..16. This reduces dimensionality and gives invariance to small\n",
            "distortions.\n",
            "\n",
            "For info on NIST preprocessing routines, see M. D. Garris, J. L. Blue, G.\n",
            "T. Candela, D. L. Dimmick, J. Geist, P. J. Grother, S. A. Janet, and C.\n",
            "L. Wilson, NIST Form-Based Handprint Recognition System, NISTIR 5469,\n",
            "1994.\n",
            "\n",
            ".. topic:: References\n",
            "\n",
            "  - C. Kaynak (1995) Methods of Combining Multiple Classifiers and Their\n",
            "    Applications to Handwritten Digit Recognition, MSc Thesis, Institute of\n",
            "    Graduate Studies in Science and Engineering, Bogazici University.\n",
            "  - E. Alpaydin, C. Kaynak (1998) Cascading Classifiers, Kybernetika.\n",
            "  - Ken Tang and Ponnuthurai N. Suganthan and Xi Yao and A. Kai Qin.\n",
            "    Linear dimensionalityreduction using relevance weighted LDA. School of\n",
            "    Electrical and Electronic Engineering Nanyang Technological University.\n",
            "    2005.\n",
            "  - Claudio Gentile. A New Approximate Maximal Margin Classification\n",
            "    Algorithm. NIPS. 2000.\n"
          ],
          "name": "stdout"
        }
      ]
    },
    {
      "cell_type": "code",
      "metadata": {
        "colab": {
          "base_uri": "https://localhost:8080/",
          "height": 0
        },
        "id": "_9bpmpWviAU0",
        "outputId": "c38db20b-80b4-435e-b049-0deaeca275a6"
      },
      "source": [
        "digits.images[0]"
      ],
      "execution_count": 6,
      "outputs": [
        {
          "output_type": "execute_result",
          "data": {
            "text/plain": [
              "array([[ 0.,  0.,  5., 13.,  9.,  1.,  0.,  0.],\n",
              "       [ 0.,  0., 13., 15., 10., 15.,  5.,  0.],\n",
              "       [ 0.,  3., 15.,  2.,  0., 11.,  8.,  0.],\n",
              "       [ 0.,  4., 12.,  0.,  0.,  8.,  8.,  0.],\n",
              "       [ 0.,  5.,  8.,  0.,  0.,  9.,  8.,  0.],\n",
              "       [ 0.,  4., 11.,  0.,  1., 12.,  7.,  0.],\n",
              "       [ 0.,  2., 14.,  5., 10., 12.,  0.,  0.],\n",
              "       [ 0.,  0.,  6., 13., 10.,  0.,  0.,  0.]])"
            ]
          },
          "metadata": {
            "tags": []
          },
          "execution_count": 6
        }
      ]
    },
    {
      "cell_type": "code",
      "metadata": {
        "colab": {
          "base_uri": "https://localhost:8080/",
          "height": 0
        },
        "id": "sQ3y7LkFiJaK",
        "outputId": "9fd9d73a-7864-4fba-8a25-7df07b9ece20"
      },
      "source": [
        "digits.images[0].shape"
      ],
      "execution_count": 7,
      "outputs": [
        {
          "output_type": "execute_result",
          "data": {
            "text/plain": [
              "(8, 8)"
            ]
          },
          "metadata": {
            "tags": []
          },
          "execution_count": 7
        }
      ]
    },
    {
      "cell_type": "code",
      "metadata": {
        "colab": {
          "base_uri": "https://localhost:8080/",
          "height": 0
        },
        "id": "OiDEcANmiOMo",
        "outputId": "5f4ee07f-c304-4543-ce6d-2b169e9401a0"
      },
      "source": [
        "digits.target"
      ],
      "execution_count": 8,
      "outputs": [
        {
          "output_type": "execute_result",
          "data": {
            "text/plain": [
              "array([0, 1, 2, ..., 8, 9, 8])"
            ]
          },
          "metadata": {
            "tags": []
          },
          "execution_count": 8
        }
      ]
    },
    {
      "cell_type": "code",
      "metadata": {
        "colab": {
          "base_uri": "https://localhost:8080/",
          "height": 0
        },
        "id": "QPfXyAxFiVc0",
        "outputId": "88eda57b-fe09-4fe6-bf8e-6fcd59b1186a"
      },
      "source": [
        "digits.target.size"
      ],
      "execution_count": 9,
      "outputs": [
        {
          "output_type": "execute_result",
          "data": {
            "text/plain": [
              "1797"
            ]
          },
          "metadata": {
            "tags": []
          },
          "execution_count": 9
        }
      ]
    },
    {
      "cell_type": "code",
      "metadata": {
        "id": "FgBXHDwvia5A"
      },
      "source": [
        "import matplotlib.pyplot as plt\n",
        "%matplotlib inline"
      ],
      "execution_count": 10,
      "outputs": []
    },
    {
      "cell_type": "code",
      "metadata": {
        "colab": {
          "base_uri": "https://localhost:8080/",
          "height": 282
        },
        "id": "MeJTzllyi6NY",
        "outputId": "9d7d5ed1-95f6-498e-eaec-79b42e1f1913"
      },
      "source": [
        "plt.imshow(digits.images[1791])"
      ],
      "execution_count": 13,
      "outputs": [
        {
          "output_type": "execute_result",
          "data": {
            "text/plain": [
              "<matplotlib.image.AxesImage at 0x7f0126983810>"
            ]
          },
          "metadata": {
            "tags": []
          },
          "execution_count": 13
        },
        {
          "output_type": "display_data",
          "data": {
            "image/png": "[encoded data removed]",
            "text/plain": [
              "<Figure size 432x288 with 1 Axes>"
            ]
          },
          "metadata": {
            "tags": [],
            "needs_background": "light"
          }
        }
      ]
    },
    {
      "cell_type": "code",
      "metadata": {
        "colab": {
          "base_uri": "https://localhost:8080/",
          "height": 0
        },
        "id": "GQCiVR87jnXJ",
        "outputId": "5e1a9205-2baf-4f44-e2b5-5c8180327a7d"
      },
      "source": [
        "svc.fit(digits.data[1:1790], digits.target[1:1790])"
      ],
      "execution_count": 16,
      "outputs": [
        {
          "output_type": "execute_result",
          "data": {
            "text/plain": [
              "SVC(C=100.0, break_ties=False, cache_size=200, class_weight=None, coef0=0.0,\n",
              "    decision_function_shape='ovr', degree=3, gamma=0.001, kernel='rbf',\n",
              "    max_iter=-1, probability=False, random_state=None, shrinking=True,\n",
              "    tol=0.001, verbose=False)"
            ]
          },
          "metadata": {
            "tags": []
          },
          "execution_count": 16
        }
      ]
    },
    {
      "cell_type": "code",
      "metadata": {
        "colab": {
          "base_uri": "https://localhost:8080/",
          "height": 0
        },
        "id": "_mFa4xOqj4Fm",
        "outputId": "8e2b6dad-717f-4570-cde8-b368920e3a5a"
      },
      "source": [
        "svc.predict(digits.data[1791:1797])"
      ],
      "execution_count": 18,
      "outputs": [
        {
          "output_type": "execute_result",
          "data": {
            "text/plain": [
              "array([4, 9, 0, 8, 9, 8])"
            ]
          },
          "metadata": {
            "tags": []
          },
          "execution_count": 18
        }
      ]
    },
    {
      "cell_type": "code",
      "metadata": {
        "colab": {
          "base_uri": "https://localhost:8080/",
          "height": 0
        },
        "id": "fIiHjaXuk1wZ",
        "outputId": "4a6c67d1-f3bd-4a40-e366-09faa63e61d0"
      },
      "source": [
        "digits.target[1791:1797]"
      ],
      "execution_count": 23,
      "outputs": [
        {
          "output_type": "execute_result",
          "data": {
            "text/plain": [
              "array([4, 9, 0, 8, 9, 8])"
            ]
          },
          "metadata": {
            "tags": []
          },
          "execution_count": 23
        }
      ]
    },
    {
      "cell_type": "code",
      "metadata": {
        "colab": {
          "base_uri": "https://localhost:8080/",
          "height": 282
        },
        "id": "wSUhOXy2kYF5",
        "outputId": "4b65d020-04c8-4c8c-d995-774517558982"
      },
      "source": [
        "plt.imshow(digits.images[1796])"
      ],
      "execution_count": 22,
      "outputs": [
        {
          "output_type": "execute_result",
          "data": {
            "text/plain": [
              "<matplotlib.image.AxesImage at 0x7f01267dce10>"
            ]
          },
          "metadata": {
            "tags": []
          },
          "execution_count": 22
        },
        {
          "output_type": "display_data",
          "data": {
            "image/png": "[encoded data removed]",
            "text/plain": [
              "<Figure size 432x288 with 1 Axes>"
            ]
          },
          "metadata": {
            "tags": [],
            "needs_background": "light"
          }
        }
      ]
    },
    {
      "cell_type": "code",
      "metadata": {
        "id": "mZzp8MHpqdLJ"
      },
      "source": [
        "import pandas as pd"
      ],
      "execution_count": 46,
      "outputs": []
    },
    {
      "cell_type": "code",
      "metadata": {
        "id": "4BaAfD3Bko9V"
      },
      "source": [
        "import tensorflow as tf"
      ],
      "execution_count": 25,
      "outputs": []
    },
    {
      "cell_type": "code",
      "metadata": {
        "id": "2iTWXvbtlQT6"
      },
      "source": [
        "data = datasets.load_digits()"
      ],
      "execution_count": 26,
      "outputs": []
    },
    {
      "cell_type": "code",
      "metadata": {
        "id": "tvQJ-Pkplemm"
      },
      "source": [
        "from sklearn.model_selection import train_test_split"
      ],
      "execution_count": 27,
      "outputs": []
    },
    {
      "cell_type": "code",
      "metadata": {
        "id": "GvLPS2fQmKmD"
      },
      "source": [
        "X = data.images"
      ],
      "execution_count": 66,
      "outputs": []
    },
    {
      "cell_type": "code",
      "metadata": {
        "id": "sUeiDemOmRDX"
      },
      "source": [
        "Y = data.target"
      ],
      "execution_count": 67,
      "outputs": []
    },
    {
      "cell_type": "code",
      "metadata": {
        "id": "ZrWn8Yq8l47D"
      },
      "source": [
        "x_train, x_test, y_train, y_test = train_test_split(X,Y, test_size = 0.2)"
      ],
      "execution_count": 68,
      "outputs": []
    },
    {
      "cell_type": "code",
      "metadata": {
        "colab": {
          "base_uri": "https://localhost:8080/",
          "height": 0
        },
        "id": "o1PJMfEXmhYX",
        "outputId": "582ec43a-5283-4ad3-8e75-ef0186679cff"
      },
      "source": [
        "len(x_train)"
      ],
      "execution_count": 69,
      "outputs": [
        {
          "output_type": "execute_result",
          "data": {
            "text/plain": [
              "1437"
            ]
          },
          "metadata": {
            "tags": []
          },
          "execution_count": 69
        }
      ]
    },
    {
      "cell_type": "code",
      "metadata": {
        "colab": {
          "base_uri": "https://localhost:8080/",
          "height": 0
        },
        "id": "1sg8Ki6YmmN2",
        "outputId": "20f5ce95-5eca-4eee-8923-e096901780b0"
      },
      "source": [
        "len(x_test)"
      ],
      "execution_count": 70,
      "outputs": [
        {
          "output_type": "execute_result",
          "data": {
            "text/plain": [
              "360"
            ]
          },
          "metadata": {
            "tags": []
          },
          "execution_count": 70
        }
      ]
    },
    {
      "cell_type": "code",
      "metadata": {
        "colab": {
          "base_uri": "https://localhost:8080/",
          "height": 0
        },
        "id": "TUkn4ttEngtE",
        "outputId": "a35581f4-778b-4922-e9be-62b2dc4f2553"
      },
      "source": [
        "x_train[0].shape"
      ],
      "execution_count": 71,
      "outputs": [
        {
          "output_type": "execute_result",
          "data": {
            "text/plain": [
              "(8, 8)"
            ]
          },
          "metadata": {
            "tags": []
          },
          "execution_count": 71
        }
      ]
    },
    {
      "cell_type": "code",
      "metadata": {
        "colab": {
          "base_uri": "https://localhost:8080/",
          "height": 0
        },
        "id": "qPtDu4eRnqdE",
        "outputId": "d49403dd-1e28-478b-f4d1-a859cd645332"
      },
      "source": [
        "x_train[0]"
      ],
      "execution_count": 72,
      "outputs": [
        {
          "output_type": "execute_result",
          "data": {
            "text/plain": [
              "array([[ 0.,  0., 13., 16., 16., 15.,  2.,  0.],\n",
              "       [ 0.,  0., 14., 13., 11., 16.,  2.,  0.],\n",
              "       [ 0.,  0., 11., 13., 15.,  6.,  0.,  0.],\n",
              "       [ 0.,  0.,  5., 16., 10.,  0.,  0.,  0.],\n",
              "       [ 0.,  0., 10., 14., 15.,  0.,  0.,  0.],\n",
              "       [ 0.,  1., 14.,  3., 15.,  7.,  0.,  0.],\n",
              "       [ 0.,  6., 11.,  0., 15.,  6.,  0.,  0.],\n",
              "       [ 0.,  1., 13., 16., 15.,  3.,  0.,  0.]])"
            ]
          },
          "metadata": {
            "tags": []
          },
          "execution_count": 72
        }
      ]
    },
    {
      "cell_type": "code",
      "metadata": {
        "colab": {
          "base_uri": "https://localhost:8080/",
          "height": 0
        },
        "id": "yoFjd6b1nqK3",
        "outputId": "3e1fa8ad-cb22-463e-e468-d04390322b4c"
      },
      "source": [
        "x_test.shape"
      ],
      "execution_count": 73,
      "outputs": [
        {
          "output_type": "execute_result",
          "data": {
            "text/plain": [
              "(360, 8, 8)"
            ]
          },
          "metadata": {
            "tags": []
          },
          "execution_count": 73
        }
      ]
    },
    {
      "cell_type": "code",
      "metadata": {
        "id": "_uN6pbJOsF57"
      },
      "source": [
        "x_train = x_train/255\n",
        "x_test = x_test/255"
      ],
      "execution_count": 74,
      "outputs": []
    },
    {
      "cell_type": "code",
      "metadata": {
        "id": "ObJ1u_HGnp8p"
      },
      "source": [
        "x_train_flt = x_train.reshape(len(x_train),8*8)\n",
        "x_test_flt = x_test.reshape(len(x_test),8*8)"
      ],
      "execution_count": 75,
      "outputs": []
    },
    {
      "cell_type": "code",
      "metadata": {
        "colab": {
          "base_uri": "https://localhost:8080/",
          "height": 0
        },
        "id": "yBU1fLtPpKNT",
        "outputId": "a97373fb-066b-422e-d14a-8e472af4ae47"
      },
      "source": [
        "x_train_flt.shape"
      ],
      "execution_count": 76,
      "outputs": [
        {
          "output_type": "execute_result",
          "data": {
            "text/plain": [
              "(1437, 64)"
            ]
          },
          "metadata": {
            "tags": []
          },
          "execution_count": 76
        }
      ]
    },
    {
      "cell_type": "code",
      "metadata": {
        "id": "iI5TqgtgmpYW"
      },
      "source": [
        "from tensorflow import keras"
      ],
      "execution_count": 77,
      "outputs": []
    },
    {
      "cell_type": "code",
      "metadata": {
        "id": "Vsbt3nV0nOvL"
      },
      "source": [
        "model = keras.Sequential([\n",
        "                          keras.layers.Dense(150, input_shape=(64,), activation=\"sigmoid\"),\n",
        "                          keras.layers.Dense(10, activation=\"sigmoid\")\n",
        "])"
      ],
      "execution_count": 88,
      "outputs": []
    },
    {
      "cell_type": "code",
      "metadata": {
        "colab": {
          "base_uri": "https://localhost:8080/",
          "height": 0
        },
        "id": "oq_NGjOuqJaM",
        "outputId": "c0ab0e09-2fcd-4388-c893-cda175f09630"
      },
      "source": [
        "print(type(Y))"
      ],
      "execution_count": 89,
      "outputs": [
        {
          "output_type": "stream",
          "text": [
            "<class 'numpy.ndarray'>\n"
          ],
          "name": "stdout"
        }
      ]
    },
    {
      "cell_type": "code",
      "metadata": {
        "id": "9CWETWJ0qsz7"
      },
      "source": [
        "model.compile(\n",
        "    optimizer='adam',\n",
        "    loss='sparse_categorical_crossentropy',\n",
        "    metrics=['accuracy']\n",
        ")"
      ],
      "execution_count": 99,
      "outputs": []
    },
    {
      "cell_type": "code",
      "metadata": {
        "colab": {
          "base_uri": "https://localhost:8080/",
          "height": 0
        },
        "id": "IZvh4lNprnrd",
        "outputId": "16720964-dd21-4c9a-e97e-fcee0c512071"
      },
      "source": [
        "model.fit(x_train_flt, y_train, epochs=20)"
      ],
      "execution_count": 108,
      "outputs": [
        {
          "output_type": "stream",
          "text": [
            "Epoch 1/20\n",
            "45/45 [==============================] - 0s 2ms/step - loss: 0.0710 - accuracy: 0.9847\n",
            "Epoch 2/20\n",
            "45/45 [==============================] - 0s 2ms/step - loss: 0.0706 - accuracy: 0.9868\n",
            "Epoch 3/20\n",
            "45/45 [==============================] - 0s 2ms/step - loss: 0.0700 - accuracy: 0.9854\n",
            "Epoch 4/20\n",
            "45/45 [==============================] - 0s 2ms/step - loss: 0.0702 - accuracy: 0.9847\n",
            "Epoch 5/20\n",
            "45/45 [==============================] - 0s 2ms/step - loss: 0.0697 - accuracy: 0.9847\n",
            "Epoch 6/20\n",
            "45/45 [==============================] - 0s 2ms/step - loss: 0.0703 - accuracy: 0.9861\n",
            "Epoch 7/20\n",
            "45/45 [==============================] - 0s 2ms/step - loss: 0.0680 - accuracy: 0.9854\n",
            "Epoch 8/20\n",
            "45/45 [==============================] - 0s 2ms/step - loss: 0.0688 - accuracy: 0.9847\n",
            "Epoch 9/20\n",
            "45/45 [==============================] - 0s 2ms/step - loss: 0.0691 - accuracy: 0.9847\n",
            "Epoch 10/20\n",
            "45/45 [==============================] - 0s 2ms/step - loss: 0.0689 - accuracy: 0.9840\n",
            "Epoch 11/20\n",
            "45/45 [==============================] - 0s 2ms/step - loss: 0.0690 - accuracy: 0.9861\n",
            "Epoch 12/20\n",
            "45/45 [==============================] - 0s 2ms/step - loss: 0.0682 - accuracy: 0.9847\n",
            "Epoch 13/20\n",
            "45/45 [==============================] - 0s 2ms/step - loss: 0.0674 - accuracy: 0.9847\n",
            "Epoch 14/20\n",
            "45/45 [==============================] - 0s 2ms/step - loss: 0.0675 - accuracy: 0.9847\n",
            "Epoch 15/20\n",
            "45/45 [==============================] - 0s 2ms/step - loss: 0.0673 - accuracy: 0.9847\n",
            "Epoch 16/20\n",
            "45/45 [==============================] - 0s 2ms/step - loss: 0.0665 - accuracy: 0.9868\n",
            "Epoch 17/20\n",
            "45/45 [==============================] - 0s 1ms/step - loss: 0.0678 - accuracy: 0.9882\n",
            "Epoch 18/20\n",
            "45/45 [==============================] - 0s 2ms/step - loss: 0.0665 - accuracy: 0.9840\n",
            "Epoch 19/20\n",
            "45/45 [==============================] - 0s 2ms/step - loss: 0.0674 - accuracy: 0.9882\n",
            "Epoch 20/20\n",
            "45/45 [==============================] - 0s 2ms/step - loss: 0.0661 - accuracy: 0.9861\n"
          ],
          "name": "stdout"
        },
        {
          "output_type": "execute_result",
          "data": {
            "text/plain": [
              "<tensorflow.python.keras.callbacks.History at 0x7f00e2e56d10>"
            ]
          },
          "metadata": {
            "tags": []
          },
          "execution_count": 108
        }
      ]
    },
    {
      "cell_type": "code",
      "metadata": {
        "colab": {
          "base_uri": "https://localhost:8080/",
          "height": 0
        },
        "id": "BI-qOmZRrwLl",
        "outputId": "8cca56b9-7b0c-433e-d734-2f448c27f465"
      },
      "source": [
        "model.evaluate(x_test_flt,y_test)"
      ],
      "execution_count": 109,
      "outputs": [
        {
          "output_type": "stream",
          "text": [
            "12/12 [==============================] - 0s 1ms/step - loss: 0.1094 - accuracy: 0.9583\n"
          ],
          "name": "stdout"
        },
        {
          "output_type": "execute_result",
          "data": {
            "text/plain": [
              "[0.1093856692314148, 0.9583333134651184]"
            ]
          },
          "metadata": {
            "tags": []
          },
          "execution_count": 109
        }
      ]
    },
    {
      "cell_type": "code",
      "metadata": {
        "id": "AHWeEVKXvYcA"
      },
      "source": [
        "y_predict = model.predict(x_test_flt)"
      ],
      "execution_count": 110,
      "outputs": []
    },
    {
      "cell_type": "code",
      "metadata": {
        "colab": {
          "base_uri": "https://localhost:8080/",
          "height": 0
        },
        "id": "HvntZp0Hvj__",
        "outputId": "01802df4-a4b2-4ce1-d8b1-507ebc79530a"
      },
      "source": [
        "print(y_predict)"
      ],
      "execution_count": 111,
      "outputs": [
        {
          "output_type": "stream",
          "text": [
            "[[9.9975944e-01 3.9003938e-02 1.7869473e-04 ... 5.7963669e-02\n",
            "  2.8381771e-01 1.5571770e-01]\n",
            " [1.7398208e-02 4.0757656e-03 3.6776729e-08 ... 3.5936534e-03\n",
            "  5.0459200e-01 8.8571012e-01]\n",
            " [6.1842638e-06 3.6718935e-02 2.2083670e-02 ... 5.8882082e-01\n",
            "  1.2637505e-01 8.7046117e-02]\n",
            " ...\n",
            " [1.7667711e-03 2.2178853e-01 7.4654497e-05 ... 1.4781654e-03\n",
            "  9.8642164e-01 3.4077471e-01]\n",
            " [8.8414431e-02 8.3310956e-01 3.2399842e-06 ... 5.3597891e-01\n",
            "  1.7889816e-01 2.5702850e-05]\n",
            " [2.2959709e-04 1.5324831e-02 9.6816719e-03 ... 1.7542568e-01\n",
            "  4.0325165e-01 3.7946606e-01]]\n"
          ],
          "name": "stdout"
        }
      ]
    },
    {
      "cell_type": "code",
      "metadata": {
        "id": "xdiYvW4EvpQK"
      },
      "source": [
        "import numpy as np\n"
      ],
      "execution_count": 112,
      "outputs": []
    },
    {
      "cell_type": "code",
      "metadata": {
        "colab": {
          "base_uri": "https://localhost:8080/",
          "height": 0
        },
        "id": "_7diSX-hv5NZ",
        "outputId": "d63dd0c6-d491-4a76-ab9a-0445d94ad3ee"
      },
      "source": [
        "np.argmax(y_predict[0])"
      ],
      "execution_count": 113,
      "outputs": [
        {
          "output_type": "execute_result",
          "data": {
            "text/plain": [
              "0"
            ]
          },
          "metadata": {
            "tags": []
          },
          "execution_count": 113
        }
      ]
    },
    {
      "cell_type": "code",
      "metadata": {
        "colab": {
          "base_uri": "https://localhost:8080/",
          "height": 282
        },
        "id": "VDlBZZwNwAdz",
        "outputId": "05eb5b39-391d-4604-ac28-e53b670152bb"
      },
      "source": [
        "plt.imshow(x_test[0])"
      ],
      "execution_count": 114,
      "outputs": [
        {
          "output_type": "execute_result",
          "data": {
            "text/plain": [
              "<matplotlib.image.AxesImage at 0x7f00e2e0ce90>"
            ]
          },
          "metadata": {
            "tags": []
          },
          "execution_count": 114
        },
        {
          "output_type": "display_data",
          "data": {
            "image/png": "[encoded data removed]",
            "text/plain": [
              "<Figure size 432x288 with 1 Axes>"
            ]
          },
          "metadata": {
            "tags": [],
            "needs_background": "light"
          }
        }
      ]
    },
    {
      "cell_type": "code",
      "metadata": {
        "id": "yqmQCRfmwI_g"
      },
      "source": [
        "y_predi_labels = [np.argmax(i) for i in y_predict]"
      ],
      "execution_count": 115,
      "outputs": []
    },
    {
      "cell_type": "code",
      "metadata": {
        "colab": {
          "base_uri": "https://localhost:8080/",
          "height": 0
        },
        "id": "YRdRV-_xwZo_",
        "outputId": "f3a3bfac-bf2c-441e-8fbc-7e5b8c494e6e"
      },
      "source": [
        "print(y_predi_labels)"
      ],
      "execution_count": 116,
      "outputs": [
        {
          "output_type": "stream",
          "text": [
            "[0, 5, 5, 7, 4, 9, 3, 7, 2, 4, 3, 1, 5, 3, 5, 0, 4, 3, 9, 8, 1, 5, 8, 2, 7, 3, 8, 2, 8, 3, 7, 5, 3, 8, 5, 8, 8, 6, 4, 1, 5, 7, 1, 2, 0, 5, 4, 5, 3, 1, 4, 7, 9, 3, 7, 4, 4, 9, 1, 6, 3, 2, 8, 0, 2, 5, 9, 3, 5, 2, 1, 9, 9, 6, 4, 6, 5, 0, 9, 3, 1, 2, 6, 3, 8, 6, 4, 1, 2, 3, 3, 9, 7, 4, 4, 3, 2, 7, 7, 0, 8, 3, 5, 5, 8, 8, 6, 3, 2, 9, 8, 8, 1, 5, 8, 1, 2, 8, 7, 3, 7, 9, 3, 1, 5, 6, 2, 4, 1, 4, 2, 1, 5, 3, 2, 6, 0, 9, 8, 9, 9, 2, 4, 4, 7, 2, 3, 6, 7, 2, 1, 5, 3, 9, 4, 4, 6, 4, 6, 6, 1, 9, 8, 1, 3, 2, 7, 8, 1, 8, 5, 8, 0, 6, 8, 2, 3, 6, 3, 6, 5, 2, 2, 0, 2, 5, 0, 1, 9, 1, 9, 6, 9, 1, 9, 8, 1, 2, 5, 9, 1, 1, 0, 5, 7, 8, 5, 1, 1, 5, 2, 7, 7, 5, 7, 8, 7, 2, 6, 8, 1, 1, 5, 6, 5, 9, 1, 0, 7, 4, 6, 0, 1, 1, 8, 3, 4, 0, 3, 1, 6, 8, 8, 4, 4, 5, 8, 4, 4, 8, 7, 7, 0, 3, 7, 3, 3, 2, 0, 8, 8, 5, 0, 1, 9, 9, 8, 2, 4, 9, 0, 1, 0, 1, 0, 0, 7, 5, 6, 3, 3, 6, 5, 3, 7, 6, 7, 8, 5, 7, 1, 5, 3, 0, 1, 5, 3, 7, 9, 6, 4, 2, 8, 4, 5, 7, 9, 8, 4, 4, 3, 3, 0, 2, 9, 3, 6, 2, 2, 1, 5, 0, 3, 5, 8, 9, 4, 3, 2, 4, 0, 0, 3, 6, 3, 1, 6, 8, 2, 7, 0, 0, 4, 1, 0, 4, 0, 2, 7, 7, 7, 3, 4, 9, 9, 4, 3, 8, 4, 5]\n"
          ],
          "name": "stdout"
        }
      ]
    },
    {
      "cell_type": "code",
      "metadata": {
        "colab": {
          "base_uri": "https://localhost:8080/",
          "height": 282
        },
        "id": "SYScCVJswjZ4",
        "outputId": "ff37debc-cd98-4eb6-e634-0e25f9e66669"
      },
      "source": [
        "plt.imshow(x_test[1])"
      ],
      "execution_count": 118,
      "outputs": [
        {
          "output_type": "execute_result",
          "data": {
            "text/plain": [
              "<matplotlib.image.AxesImage at 0x7f00e1c48dd0>"
            ]
          },
          "metadata": {
            "tags": []
          },
          "execution_count": 118
        },
        {
          "output_type": "display_data",
          "data": {
            "image/png": "[encoded data removed]",
            "text/plain": [
              "<Figure size 432x288 with 1 Axes>"
            ]
          },
          "metadata": {
            "tags": [],
            "needs_background": "light"
          }
        }
      ]
    },
    {
      "cell_type": "code",
      "metadata": {
        "colab": {
          "base_uri": "https://localhost:8080/",
          "height": 0
        },
        "id": "OK-mcqmBwcmz",
        "outputId": "66580299-0595-44dc-ecc6-a758b0b29039"
      },
      "source": [
        "y_predi_labels[1]"
      ],
      "execution_count": 117,
      "outputs": [
        {
          "output_type": "execute_result",
          "data": {
            "text/plain": [
              "5"
            ]
          },
          "metadata": {
            "tags": []
          },
          "execution_count": 117
        }
      ]
    },
    {
      "cell_type": "code",
      "metadata": {
        "id": "Nq28V_owwiJA"
      },
      "source": [
        "cm = tf.math.confusion_matrix(labels = y_test, predictions=y_predi_labels)"
      ],
      "execution_count": 119,
      "outputs": []
    },
    {
      "cell_type": "code",
      "metadata": {
        "colab": {
          "base_uri": "https://localhost:8080/",
          "height": 0
        },
        "id": "-KLXX-MtxarD",
        "outputId": "448ccb3c-5ddd-4583-82da-963a6b91f02a"
      },
      "source": [
        "cm"
      ],
      "execution_count": 120,
      "outputs": [
        {
          "output_type": "execute_result",
          "data": {
            "text/plain": [
              "<tf.Tensor: shape=(10, 10), dtype=int32, numpy=\n",
              "array([[29,  0,  0,  0,  1,  0,  0,  0,  0,  0],\n",
              "       [ 0, 38,  0,  0,  0,  0,  0,  0,  3,  0],\n",
              "       [ 0,  0, 34,  0,  0,  0,  0,  0,  0,  0],\n",
              "       [ 0,  0,  0, 45,  0,  1,  0,  0,  2,  0],\n",
              "       [ 0,  0,  0,  0, 34,  0,  0,  0,  0,  0],\n",
              "       [ 0,  0,  1,  0,  1, 38,  0,  0,  0,  0],\n",
              "       [ 1,  0,  0,  0,  0,  0, 28,  0,  0,  0],\n",
              "       [ 0,  0,  0,  0,  0,  0,  0, 33,  0,  0],\n",
              "       [ 0,  1,  0,  0,  1,  0,  0,  0, 35,  0],\n",
              "       [ 0,  1,  0,  0,  0,  1,  0,  1,  0, 31]], dtype=int32)>"
            ]
          },
          "metadata": {
            "tags": []
          },
          "execution_count": 120
        }
      ]
    },
    {
      "cell_type": "code",
      "metadata": {
        "colab": {
          "base_uri": "https://localhost:8080/",
          "height": 463
        },
        "id": "H7XDs7LexbXD",
        "outputId": "25e6bc35-22b7-411f-84b2-6acbac9fecd4"
      },
      "source": [
        "import seaborn as sn\n",
        "plt.figure(figsize=(10,7))\n",
        "sn.heatmap(cm, annot=True, fmt='d')\n",
        "plt.xlabel(\"Predicted\")\n",
        "plt.ylabel(\"Actual\")"
      ],
      "execution_count": 122,
      "outputs": [
        {
          "output_type": "execute_result",
          "data": {
            "text/plain": [
              "Text(69.0, 0.5, 'Actual')"
            ]
          },
          "metadata": {
            "tags": []
          },
          "execution_count": 122
        },
        {
          "output_type": "display_data",
          "data": {
            "image/png": "[encoded data removed]",
            "text/plain": [
              "<Figure size 720x504 with 2 Axes>"
            ]
          },
          "metadata": {
            "tags": [],
            "needs_background": "light"
          }
        }
      ]
    },
    {
      "cell_type": "code",
      "metadata": {
        "id": "xaZhnKhpx52k"
      },
      "source": [
        ""
      ],
      "execution_count": null,
      "outputs": []
    }
  ]
}